{
 "cells": [
  {
   "cell_type": "markdown",
   "id": "995bb527-acbd-4bf8-8157-963d66284d52",
   "metadata": {},
   "source": [
    "## Dataset"
   ]
  },
  {
   "cell_type": "code",
   "execution_count": 1,
   "id": "2e838536-b75f-45e6-beb5-0f520e3bd3d8",
   "metadata": {},
   "outputs": [
    {
     "name": "stderr",
     "output_type": "stream",
     "text": [
      "/home/kbh/.conda/envs/dnn/lib/python3.9/site-packages/tqdm/auto.py:22: TqdmWarning: IProgress not found. Please update jupyter and ipywidgets. See https://ipywidgets.readthedocs.io/en/stable/user_install.html\n",
      "  from .autonotebook import tqdm as notebook_tqdm\n"
     ]
    }
   ],
   "source": [
    "import os,sys\n",
    "sys.path.append(\"../src\")\n",
    "from Datasets import DatasetSSL\n",
    "from utils.hparams import HParam\n",
    "hp = HParam(\"../config/v0.yaml\",\"../config/default.yaml\")"
   ]
  },
  {
   "cell_type": "code",
   "execution_count": 2,
   "id": "1a4a022e-5641-4b85-8b61-e35cc8d91fe1",
   "metadata": {},
   "outputs": [
    {
     "name": "stdout",
     "output_type": "stream",
     "text": [
      "4876\n"
     ]
    }
   ],
   "source": [
    "dataset = DatasetSSL(hp)\n",
    "print(len(dataset))"
   ]
  },
  {
   "cell_type": "code",
   "execution_count": 3,
   "id": "4c3936c8-685c-4c5d-92b2-045de9b18f3b",
   "metadata": {},
   "outputs": [
    {
     "name": "stdout",
     "output_type": "stream",
     "text": [
      "logdb : (1, 257, 139)\n",
      "R : (2, 257, 139)\n",
      "logdb : (1, 257, 139)\n"
     ]
    }
   ],
   "source": [
    "feature,label = dataset[0]"
   ]
  },
  {
   "cell_type": "code",
   "execution_count": 4,
   "id": "b9a28099-a0a9-44b6-88b1-01fc737272f7",
   "metadata": {},
   "outputs": [
    {
     "data": {
      "text/plain": [
       "torch.Size([4, 139, 257])"
      ]
     },
     "execution_count": 4,
     "metadata": {},
     "output_type": "execute_result"
    }
   ],
   "source": [
    "feature.shape"
   ]
  },
  {
   "cell_type": "markdown",
   "id": "1d500f33-0e56-42f2-8b13-ec17fc9f05a5",
   "metadata": {},
   "source": [
    "## Pred"
   ]
  },
  {
   "cell_type": "code",
   "execution_count": 5,
   "id": "33257834-81e9-4e7d-b5ce-50bcb1587bd7",
   "metadata": {},
   "outputs": [],
   "source": [
    "import torch"
   ]
  },
  {
   "cell_type": "code",
   "execution_count": 10,
   "id": "e247aa09-f1af-455a-aa8a-f90d1928d5f3",
   "metadata": {},
   "outputs": [
    {
     "name": "stdout",
     "output_type": "stream",
     "text": [
      "tensor([[[0.6819, 0.2661, 0.8686, 0.7532],\n",
      "         [0.6004, 0.8246, 0.5651, 0.4807],\n",
      "         [0.7912, 0.9077, 0.3623, 0.7677]],\n",
      "\n",
      "        [[0.3681, 0.7407, 0.6906, 0.7858],\n",
      "         [0.6747, 0.0022, 0.8579, 0.6381],\n",
      "         [0.2831, 0.9368, 0.9458, 0.5069]]])\n",
      "tensor([[0.6912, 0.6662, 0.5987, 0.6672],\n",
      "        [0.4420, 0.5599, 0.8314, 0.6436]])\n",
      "torch.Size([2, 4])\n",
      "tensor([0, 2])\n",
      "torch.Size([2])\n"
     ]
    }
   ],
   "source": [
    "x = torch.rand(2,3,4)\n",
    "print(x)\n",
    "\n",
    "scores = x.mean(1)\n",
    "print(scores)\n",
    "print(scores.shape)\n",
    "best_prediction = scores.max(-1)[1]\n",
    "print(best_prediction)\n",
    "print(best_prediction.shape)"
   ]
  },
  {
   "cell_type": "code",
   "execution_count": null,
   "id": "64bedf08-f9ed-4cc8-bd8e-ac4be05825c6",
   "metadata": {},
   "outputs": [],
   "source": []
  }
 ],
 "metadata": {
  "kernelspec": {
   "display_name": "Python 3 (ipykernel)",
   "language": "python",
   "name": "python3"
  },
  "language_info": {
   "codemirror_mode": {
    "name": "ipython",
    "version": 3
   },
   "file_extension": ".py",
   "mimetype": "text/x-python",
   "name": "python",
   "nbconvert_exporter": "python",
   "pygments_lexer": "ipython3",
   "version": "3.9.12"
  }
 },
 "nbformat": 4,
 "nbformat_minor": 5
}
