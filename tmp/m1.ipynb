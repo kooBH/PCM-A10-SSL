{
 "cells": [
  {
   "cell_type": "code",
   "execution_count": 1,
   "id": "8349da4a-b27d-4f12-adc1-7e3dd639d7cc",
   "metadata": {},
   "outputs": [
    {
     "name": "stderr",
     "output_type": "stream",
     "text": [
      "/home/kbh/.conda/envs/dnn/lib/python3.9/site-packages/tqdm/auto.py:22: TqdmWarning: IProgress not found. Please update jupyter and ipywidgets. See https://ipywidgets.readthedocs.io/en/stable/user_install.html\n",
      "  from .autonotebook import tqdm as notebook_tqdm\n"
     ]
    }
   ],
   "source": [
    "import torch\n",
    "import torch.nn as nn\n",
    "import os,sys\n",
    "sys.path.append(\"../src\")\n",
    "from modules import *"
   ]
  },
  {
   "cell_type": "code",
   "execution_count": 20,
   "id": "07fef00f-06b6-4f56-ac9f-d20adde8a201",
   "metadata": {},
   "outputs": [
    {
     "name": "stdout",
     "output_type": "stream",
     "text": [
      "torch.Size([2, 128, 128])\n",
      "fc_0 : torch.Size([2, 128, 512])\n",
      "output\n",
      "torch.Size([2, 10])\n",
      "tensor([[0.5127, 0.5034, 0.5012, 0.5201, 0.4837, 0.4695, 0.4831, 0.4738, 0.4753,\n",
      "         0.5272],\n",
      "        [0.5141, 0.5033, 0.5023, 0.5192, 0.4836, 0.4701, 0.4858, 0.4762, 0.4754,\n",
      "         0.5257]], grad_fn=<MeanBackward1>)\n"
     ]
    }
   ],
   "source": [
    "class CRFN(nn.Module):\n",
    "    def __init__(self, c_in, class_num=10, pool_type='avg', pool_size=(2,2), pretrained_path=None,last_activation=\"Sigmoid\"):\n",
    "        super().__init__()\n",
    "\n",
    "        self.class_num = class_num\n",
    "        self.pool_type = pool_type\n",
    "        self.pool_size = pool_size\n",
    "        \n",
    "        self.conv_block0 = ConvBlock(in_channels=c_in, out_channels=64)    # 1: 7, 128     2: 7, 64\n",
    "        self.gate_block0 = ConvBlock(in_channels=4, out_channels=64)\n",
    "\n",
    "        \n",
    "        self.gru = nn.GRU(input_size=64, hidden_size=64, \n",
    "            num_layers=3, dropout=0.3, batch_first=True, bidirectional=True)\n",
    "\n",
    "        self.fc_1 = nn.Sequential(\n",
    "            nn.Linear(128, 512, bias=True),\n",
    "            nn.PReLU()\n",
    "        )\n",
    "        self.fc_2 = nn.Sequential(\n",
    "            nn.Linear(512, 128, bias=True),\n",
    "            nn.PReLU()\n",
    "        )\n",
    "        self.fc_3 = nn.Linear(128, class_num, bias=True)\n",
    "\n",
    "        self.init_weights()\n",
    "\n",
    "        if last_activation == \"Sigmoid\" :\n",
    "            self.last_activation = nn.Sigmoid()\n",
    "        elif last_activation == \"Softmax\" : \n",
    "            self.last_activation = nn.Softmax()\n",
    "        else : \n",
    "            self.last_activation = nn.Sigmoid()\n",
    "\n",
    "    def init_weights(self):\n",
    "\n",
    "        init_gru(self.gru)\n",
    "        #init_layer(self.azimuth_fc)\n",
    "        init_layer(self.fc_1)\n",
    "        init_layer(self.fc_2)\n",
    "        init_layer(self.fc_3)\n",
    "\n",
    "    def forward(self, x):\n",
    "        #pdb.set_trace() \n",
    "        '''input: (batch_size, mic_channels, time_steps, mel_bins)'''\n",
    "        gate = self.gate_block0(x, self.pool_type, pool_size=self.pool_size)\n",
    "        x = self.conv_block0(x, self.pool_type, pool_size=self.pool_size)\n",
    "        x = x * torch.sigmoid(gate)\n",
    "        \n",
    "        if self.pool_type == 'avg':\n",
    "            x = torch.mean(x, dim=2)\n",
    "        elif self.pool_type == 'max':\n",
    "            (x, _) = torch.max(x, dim=2)\n",
    "        '''(batch_size, feature_maps, time_steps)'''\n",
    "        \n",
    "        x = x.transpose(1,2)\n",
    "        ''' (batch_size, time_steps, feature_maps):'''\n",
    "\n",
    "        self.gru.flatten_parameters()\n",
    "        (x, _) = self.gru(x)\n",
    "        print(x.shape)\n",
    "        # \n",
    "        x = self.fc_1(x)\n",
    "        print(\"fc_0 : {}\".format(x.shape))\n",
    "        x = self.fc_2(x)\n",
    "        x = self.fc_3(x)\n",
    "        #azimuth_output = self.azimuth_fc(x)\n",
    "        '''(batch_size, time_steps, class_num)'''\n",
    "\n",
    "        # Interpolate\n",
    "        azimuth_output = self.last_activation(x)\n",
    "        \n",
    "        \n",
    "\n",
    "        pred = azimuth_output.mean(1)\n",
    "        #prediction = scores.max(-1)[1]\n",
    "        return pred\n",
    "m = CRFN(4)\n",
    "x = torch.rand(2,4,320,257)\n",
    "y = m(x)\n",
    "print(\"output\")\n",
    "print(y.shape)\n",
    "print(y)"
   ]
  },
  {
   "cell_type": "code",
   "execution_count": null,
   "id": "a85e0228-752b-4566-bfa8-ca330458a6ea",
   "metadata": {},
   "outputs": [],
   "source": []
  }
 ],
 "metadata": {
  "kernelspec": {
   "display_name": "Python 3 (ipykernel)",
   "language": "python",
   "name": "python3"
  },
  "language_info": {
   "codemirror_mode": {
    "name": "ipython",
    "version": 3
   },
   "file_extension": ".py",
   "mimetype": "text/x-python",
   "name": "python",
   "nbconvert_exporter": "python",
   "pygments_lexer": "ipython3",
   "version": "3.9.12"
  }
 },
 "nbformat": 4,
 "nbformat_minor": 5
}
