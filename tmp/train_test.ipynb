{
 "cells": [
  {
   "cell_type": "code",
   "execution_count": 27,
   "id": "dde658af-f848-4e25-927e-4b42a02ce5f3",
   "metadata": {},
   "outputs": [],
   "source": [
    "import os,glob\n",
    "import random\n",
    "import shutil\n",
    "from tqdm.auto import tqdm\n",
    "import numpy as np"
   ]
  },
  {
   "cell_type": "code",
   "execution_count": 7,
   "id": "14438f69-214e-4c13-bdfc-0c1a6350fba8",
   "metadata": {},
   "outputs": [
    {
     "name": "stdout",
     "output_type": "stream",
     "text": [
      "4876\n"
     ]
    }
   ],
   "source": [
    "root = \"/home/data2/kbh/AIG2022/SSL/\"\n",
    "list_data = glob.glob(os.path.join(root,\"**\",\"*.wav\"),recursive=True)\n",
    "print(len(list_data))"
   ]
  },
  {
   "cell_type": "markdown",
   "id": "aa21f138-f353-46fd-bc20-1d0794736510",
   "metadata": {},
   "source": [
    "## Dev"
   ]
  },
  {
   "cell_type": "code",
   "execution_count": 24,
   "id": "7753b23b-8722-459f-8bea-c77ab1a35d99",
   "metadata": {},
   "outputs": [
    {
     "name": "stdout",
     "output_type": "stream",
     "text": [
      "/home/data2/kbh/AIG2022/SSL/1/degree100/degree100_274.wav\n",
      "degree100\n"
     ]
    }
   ],
   "source": [
    "random.shuffle(list_data)\n",
    "for path in list_data : \n",
    "    print(path)\n",
    "    label = path.split(\"/\")[-2]\n",
    "    print(label)\n",
    "    break"
   ]
  },
  {
   "cell_type": "markdown",
   "id": "026fcc2e-5227-45be-8cb1-5aeaf09d40d2",
   "metadata": {},
   "source": [
    "## Run"
   ]
  },
  {
   "cell_type": "code",
   "execution_count": 31,
   "id": "d856e15e-3091-4e74-bb40-6cbb1a8e5f45",
   "metadata": {},
   "outputs": [
    {
     "name": "stdout",
     "output_type": "stream",
     "text": [
      "4388\n",
      "488\n"
     ]
    },
    {
     "name": "stderr",
     "output_type": "stream",
     "text": [
      "100%|██████████████████████████████████████████████████████████████████| 4388/4388 [00:01<00:00, 2921.84it/s]\n"
     ]
    },
    {
     "name": "stdout",
     "output_type": "stream",
     "text": [
      "{'degree0': 245, 'degree20': 573, 'degree40': 578, 'degree60': 592, 'degree80': 597, 'degree100': 577, 'degree120': 483, 'degree140': 260, 'degree160': 237, 'degree180': 246}\n"
     ]
    },
    {
     "name": "stderr",
     "output_type": "stream",
     "text": [
      "100%|████████████████████████████████████████████████████████████████████| 488/488 [00:00<00:00, 2112.64it/s]"
     ]
    },
    {
     "name": "stdout",
     "output_type": "stream",
     "text": [
      "{'degree0': 28, 'degree20': 71, 'degree40': 71, 'degree60': 57, 'degree80': 58, 'degree100': 76, 'degree120': 52, 'degree140': 30, 'degree160': 26, 'degree180': 19}\n"
     ]
    },
    {
     "name": "stderr",
     "output_type": "stream",
     "text": [
      "\n"
     ]
    }
   ],
   "source": [
    "random.shuffle(list_data)\n",
    "ratio = 0.9\n",
    "idx_test = int(len(list_data)*ratio)\n",
    "\n",
    "list_train = list_data[:idx_test]\n",
    "list_test = list_data[idx_test:]\n",
    "\n",
    "print(len(list_train))\n",
    "print(len(list_test))\n",
    "\n",
    "\n",
    "## Train\n",
    "n_data = {\n",
    "            \"degree0\":0,\n",
    "            \"degree20\":0,\n",
    "            \"degree40\":0,\n",
    "            \"degree60\":0,\n",
    "            \"degree80\":0,\n",
    "            \"degree100\":0,\n",
    "            \"degree120\":0,\n",
    "            \"degree140\":0,\n",
    "            \"degree160\":0,\n",
    "            \"degree180\":0\n",
    "        }\n",
    "\n",
    "for path in tqdm(list_train):\n",
    "    label = path.split(\"/\")[-2]\n",
    "    os.makedirs(os.path.join(root,\"train\",label),exist_ok=True)\n",
    "    path_out = os.path.join(root,\"train\",label,\"{}_{}.wav\".format(label,n_data[label]))\n",
    "    shutil.copy(path, path_out)\n",
    "    n_data[label]+=1\n",
    "    \n",
    "print(n_data)\n",
    "    \n",
    "## Test\n",
    "    \n",
    "n_data = {\n",
    "            \"degree0\":0,\n",
    "            \"degree20\":0,\n",
    "            \"degree40\":0,\n",
    "            \"degree60\":0,\n",
    "            \"degree80\":0,\n",
    "            \"degree100\":0,\n",
    "            \"degree120\":0,\n",
    "            \"degree140\":0,\n",
    "            \"degree160\":0,\n",
    "            \"degree180\":0\n",
    "        }    \n",
    "for path in tqdm(list_test):\n",
    "    label = path.split(\"/\")[-2]\n",
    "    os.makedirs(os.path.join(root,\"test\",label),exist_ok=True)\n",
    "    path_out = os.path.join(root,\"test\",label,\"{}_{}.wav\".format(label,n_data[label]))\n",
    "    shutil.copy(path, path_out)\n",
    "    n_data[label]+=1\n",
    "print(n_data)\n"
   ]
  },
  {
   "cell_type": "code",
   "execution_count": null,
   "id": "56f53cfe-bc05-4cbd-b4b9-c176820c02f2",
   "metadata": {},
   "outputs": [],
   "source": []
  }
 ],
 "metadata": {
  "kernelspec": {
   "display_name": "Python 3 (ipykernel)",
   "language": "python",
   "name": "python3"
  },
  "language_info": {
   "codemirror_mode": {
    "name": "ipython",
    "version": 3
   },
   "file_extension": ".py",
   "mimetype": "text/x-python",
   "name": "python",
   "nbconvert_exporter": "python",
   "pygments_lexer": "ipython3",
   "version": "3.9.12"
  }
 },
 "nbformat": 4,
 "nbformat_minor": 5
}
